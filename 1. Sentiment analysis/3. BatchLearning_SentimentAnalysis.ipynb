{
 "cells": [
  {
   "cell_type": "code",
   "execution_count": 1,
   "id": "55e67e18",
   "metadata": {},
   "outputs": [
    {
     "name": "stderr",
     "output_type": "stream",
     "text": [
      "C:\\Users\\selma\\anaconda3\\lib\\site-packages\\scipy\\__init__.py:146: UserWarning: A NumPy version >=1.16.5 and <1.23.0 is required for this version of SciPy (detected version 1.24.0\n",
      "  warnings.warn(f\"A NumPy version >={np_minversion} and <{np_maxversion}\"\n"
     ]
    }
   ],
   "source": [
    "import pandas as pd\n",
    "import gensim\n",
    "from zipfile import ZipFile\n",
    "from sklearn.metrics import accuracy_score, classification_report\n",
    "from IPython.display import display, HTML\n",
    "import matplotlib.pyplot as plt\n",
    "from sklearn.multiclass import OneVsOneClassifier\n",
    "from sklearn.linear_model import LogisticRegression\n",
    "from sklearn.metrics import f1_score"
   ]
  },
  {
   "cell_type": "code",
   "execution_count": 2,
   "id": "ea47926d",
   "metadata": {},
   "outputs": [],
   "source": [
    "file = \"data.zip\"\n",
    "with ZipFile(file, 'r') as zip: \n",
    "    zip.extractall('data')"
   ]
  },
  {
   "cell_type": "code",
   "execution_count": 3,
   "id": "c83141c9",
   "metadata": {},
   "outputs": [
    {
     "data": {
      "text/html": [
       "<div>\n",
       "<style scoped>\n",
       "    .dataframe tbody tr th:only-of-type {\n",
       "        vertical-align: middle;\n",
       "    }\n",
       "\n",
       "    .dataframe tbody tr th {\n",
       "        vertical-align: top;\n",
       "    }\n",
       "\n",
       "    .dataframe thead th {\n",
       "        text-align: right;\n",
       "    }\n",
       "</style>\n",
       "<table border=\"1\" class=\"dataframe\">\n",
       "  <thead>\n",
       "    <tr style=\"text-align: right;\">\n",
       "      <th></th>\n",
       "      <th>lang</th>\n",
       "      <th>possibly_sensitive</th>\n",
       "      <th>text</th>\n",
       "      <th>created_at</th>\n",
       "      <th>label</th>\n",
       "    </tr>\n",
       "  </thead>\n",
       "  <tbody>\n",
       "    <tr>\n",
       "      <th>0</th>\n",
       "      <td>en</td>\n",
       "      <td>False</td>\n",
       "      <td>russia terror attack today let give incrementa...</td>\n",
       "      <td>2023-01-15 16:20:32</td>\n",
       "      <td>-1</td>\n",
       "    </tr>\n",
       "    <tr>\n",
       "      <th>1</th>\n",
       "      <td>en</td>\n",
       "      <td>False</td>\n",
       "      <td>would normally front page news identical terro...</td>\n",
       "      <td>2023-01-15 16:20:32</td>\n",
       "      <td>-1</td>\n",
       "    </tr>\n",
       "    <tr>\n",
       "      <th>2</th>\n",
       "      <td>en</td>\n",
       "      <td>False</td>\n",
       "      <td>gaza ukraine anyone care</td>\n",
       "      <td>2023-01-15 16:20:32</td>\n",
       "      <td>1</td>\n",
       "    </tr>\n",
       "    <tr>\n",
       "      <th>3</th>\n",
       "      <td>en</td>\n",
       "      <td>False</td>\n",
       "      <td>classified documents found joe biden private o...</td>\n",
       "      <td>2023-01-15 16:20:32</td>\n",
       "      <td>1</td>\n",
       "    </tr>\n",
       "    <tr>\n",
       "      <th>4</th>\n",
       "      <td>en</td>\n",
       "      <td>False</td>\n",
       "      <td>wholesale gas prices russia invaded ukraine te...</td>\n",
       "      <td>2023-01-15 16:20:32</td>\n",
       "      <td>0</td>\n",
       "    </tr>\n",
       "    <tr>\n",
       "      <th>...</th>\n",
       "      <td>...</td>\n",
       "      <td>...</td>\n",
       "      <td>...</td>\n",
       "      <td>...</td>\n",
       "      <td>...</td>\n",
       "    </tr>\n",
       "    <tr>\n",
       "      <th>995</th>\n",
       "      <td>en</td>\n",
       "      <td>False</td>\n",
       "      <td>ukraine forces retain control soledar despite ...</td>\n",
       "      <td>2023-01-15 16:18:22</td>\n",
       "      <td>0</td>\n",
       "    </tr>\n",
       "    <tr>\n",
       "      <th>996</th>\n",
       "      <td>en</td>\n",
       "      <td>False</td>\n",
       "      <td>ask people ukraine syria join iranians rally f...</td>\n",
       "      <td>2023-01-15 16:18:22</td>\n",
       "      <td>1</td>\n",
       "    </tr>\n",
       "    <tr>\n",
       "      <th>997</th>\n",
       "      <td>en</td>\n",
       "      <td>False</td>\n",
       "      <td>ukraine forced destroy tu strategic bombers st...</td>\n",
       "      <td>2023-01-15 16:18:22</td>\n",
       "      <td>-1</td>\n",
       "    </tr>\n",
       "    <tr>\n",
       "      <th>998</th>\n",
       "      <td>en</td>\n",
       "      <td>False</td>\n",
       "      <td>one day great novelists amp poets give us art ...</td>\n",
       "      <td>2023-01-15 16:18:21</td>\n",
       "      <td>1</td>\n",
       "    </tr>\n",
       "    <tr>\n",
       "      <th>999</th>\n",
       "      <td>en</td>\n",
       "      <td>False</td>\n",
       "      <td>glad see new us treasurer honored halls congre...</td>\n",
       "      <td>2023-01-15 16:18:21</td>\n",
       "      <td>1</td>\n",
       "    </tr>\n",
       "  </tbody>\n",
       "</table>\n",
       "<p>1000 rows × 5 columns</p>\n",
       "</div>"
      ],
      "text/plain": [
       "    lang  possibly_sensitive  \\\n",
       "0     en               False   \n",
       "1     en               False   \n",
       "2     en               False   \n",
       "3     en               False   \n",
       "4     en               False   \n",
       "..   ...                 ...   \n",
       "995   en               False   \n",
       "996   en               False   \n",
       "997   en               False   \n",
       "998   en               False   \n",
       "999   en               False   \n",
       "\n",
       "                                                  text           created_at  \\\n",
       "0    russia terror attack today let give incrementa...  2023-01-15 16:20:32   \n",
       "1    would normally front page news identical terro...  2023-01-15 16:20:32   \n",
       "2                             gaza ukraine anyone care  2023-01-15 16:20:32   \n",
       "3    classified documents found joe biden private o...  2023-01-15 16:20:32   \n",
       "4    wholesale gas prices russia invaded ukraine te...  2023-01-15 16:20:32   \n",
       "..                                                 ...                  ...   \n",
       "995  ukraine forces retain control soledar despite ...  2023-01-15 16:18:22   \n",
       "996  ask people ukraine syria join iranians rally f...  2023-01-15 16:18:22   \n",
       "997  ukraine forced destroy tu strategic bombers st...  2023-01-15 16:18:22   \n",
       "998  one day great novelists amp poets give us art ...  2023-01-15 16:18:21   \n",
       "999  glad see new us treasurer honored halls congre...  2023-01-15 16:18:21   \n",
       "\n",
       "     label  \n",
       "0       -1  \n",
       "1       -1  \n",
       "2        1  \n",
       "3        1  \n",
       "4        0  \n",
       "..     ...  \n",
       "995      0  \n",
       "996      1  \n",
       "997     -1  \n",
       "998      1  \n",
       "999      1  \n",
       "\n",
       "[1000 rows x 5 columns]"
      ]
     },
     "execution_count": 3,
     "metadata": {},
     "output_type": "execute_result"
    }
   ],
   "source": [
    "df_tweets = pd.read_csv('data/out.csv')\n",
    "df_tweets['label'] = df_tweets['label'].astype(int)\n",
    "df_tweets = df_tweets[:1000]\n",
    "df_tweets"
   ]
  },
  {
   "cell_type": "code",
   "execution_count": 4,
   "id": "a009e9c2",
   "metadata": {},
   "outputs": [],
   "source": [
    "df_tweets = df_tweets.dropna()\n",
    "Y = df_tweets['label']\n",
    "X = df_tweets['text']"
   ]
  },
  {
   "cell_type": "code",
   "execution_count": 5,
   "id": "7e8d7245",
   "metadata": {},
   "outputs": [
    {
     "data": {
      "image/png": "[encoded data removed]",
      "text/plain": [
       "<Figure size 1080x720 with 1 Axes>"
      ]
     },
     "metadata": {},
     "output_type": "display_data"
    }
   ],
   "source": [
    "pie, ax = plt.subplots(figsize=[15,10])\n",
    "plt.pie(x = Y.value_counts(), autopct='%.2f%%', labels=list(Y.unique().astype('str')), pctdistance=0.5, textprops={'fontsize': 16})\n",
    "plt.show()"
   ]
  },
  {
   "cell_type": "raw",
   "id": "72150959",
   "metadata": {},
   "source": [
    "There is some imbalance ==> use f1-score"
   ]
  },
  {
   "cell_type": "markdown",
   "id": "3b666959",
   "metadata": {},
   "source": [
    "# First approach: use TFIDF"
   ]
  },
  {
   "cell_type": "code",
   "execution_count": 6,
   "id": "c3e4dd09",
   "metadata": {},
   "outputs": [],
   "source": [
    "from sklearn.feature_extraction.text import CountVectorizer\n",
    "from sklearn.feature_extraction.text import TfidfTransformer\n",
    "from sklearn.neighbors import KNeighborsClassifier\n",
    "neigh = KNeighborsClassifier(n_neighbors=5)\n",
    "count_vect = CountVectorizer()\n",
    "tfidf_transformer = TfidfTransformer()\n",
    "oneVsone_logreg = OneVsOneClassifier(LogisticRegression())"
   ]
  },
  {
   "cell_type": "code",
   "execution_count": 7,
   "id": "3288860a",
   "metadata": {},
   "outputs": [
    {
     "name": "stderr",
     "output_type": "stream",
     "text": [
      "C:\\Users\\selma\\anaconda3\\lib\\site-packages\\sklearn\\utils\\validation.py:593: FutureWarning: np.matrix usage is deprecated in 1.0 and will raise a TypeError in 1.2. Please convert to a numpy array with np.asarray. For more information see: https://numpy.org/doc/stable/reference/generated/numpy.matrix.html\n",
      "  warnings.warn(\n"
     ]
    },
    {
     "data": {
      "text/html": [
       "<h1>kNN</h1>"
      ],
      "text/plain": [
       "<IPython.core.display.HTML object>"
      ]
     },
     "metadata": {},
     "output_type": "display_data"
    },
    {
     "data": {
      "text/html": [
       "<h3>All the dataset trained: Results</h3>"
      ],
      "text/plain": [
       "<IPython.core.display.HTML object>"
      ]
     },
     "metadata": {},
     "output_type": "display_data"
    },
    {
     "name": "stdout",
     "output_type": "stream",
     "text": [
      "weighted f1 score 0.8048374568654817\n",
      "              precision    recall  f1-score   support\n",
      "\n",
      "          -1       0.79      0.91      0.85       490\n",
      "           0       0.73      0.70      0.71       181\n",
      "           1       0.89      0.71      0.79       329\n",
      "\n",
      "    accuracy                           0.81      1000\n",
      "   macro avg       0.80      0.77      0.78      1000\n",
      "weighted avg       0.81      0.81      0.80      1000\n",
      "\n"
     ]
    },
    {
     "name": "stderr",
     "output_type": "stream",
     "text": [
      "C:\\Users\\selma\\anaconda3\\lib\\site-packages\\sklearn\\utils\\validation.py:593: FutureWarning: np.matrix usage is deprecated in 1.0 and will raise a TypeError in 1.2. Please convert to a numpy array with np.asarray. For more information see: https://numpy.org/doc/stable/reference/generated/numpy.matrix.html\n",
      "  warnings.warn(\n"
     ]
    }
   ],
   "source": [
    "#comparaison online/batch:\n",
    "X_counts = count_vect.fit_transform(X)\n",
    "X_tfidf = tfidf_transformer.fit_transform(X_counts).todense()\n",
    "model1 = neigh.fit(X_tfidf, Y)\n",
    "display(HTML(\"<h1>kNN</h1>\"))\n",
    "display(HTML(\"<h3>All the dataset trained: Results</h3>\"))\n",
    "model_prediction = model1.predict(X_tfidf)\n",
    "print('weighted f1 score %s' % f1_score(Y, model_prediction, average='weighted'))\n",
    "print(classification_report(Y, model_prediction))"
   ]
  },
  {
   "cell_type": "code",
   "execution_count": 8,
   "id": "6fcd6a4f",
   "metadata": {},
   "outputs": [
    {
     "name": "stderr",
     "output_type": "stream",
     "text": [
      "C:\\Users\\selma\\anaconda3\\lib\\site-packages\\sklearn\\utils\\validation.py:593: FutureWarning: np.matrix usage is deprecated in 1.0 and will raise a TypeError in 1.2. Please convert to a numpy array with np.asarray. For more information see: https://numpy.org/doc/stable/reference/generated/numpy.matrix.html\n",
      "  warnings.warn(\n"
     ]
    },
    {
     "data": {
      "text/html": [
       "<h1>kNN</h1>"
      ],
      "text/plain": [
       "<IPython.core.display.HTML object>"
      ]
     },
     "metadata": {},
     "output_type": "display_data"
    },
    {
     "data": {
      "text/html": [
       "<h3>Train data results</h3>"
      ],
      "text/plain": [
       "<IPython.core.display.HTML object>"
      ]
     },
     "metadata": {},
     "output_type": "display_data"
    },
    {
     "name": "stderr",
     "output_type": "stream",
     "text": [
      "C:\\Users\\selma\\anaconda3\\lib\\site-packages\\sklearn\\utils\\validation.py:593: FutureWarning: np.matrix usage is deprecated in 1.0 and will raise a TypeError in 1.2. Please convert to a numpy array with np.asarray. For more information see: https://numpy.org/doc/stable/reference/generated/numpy.matrix.html\n",
      "  warnings.warn(\n"
     ]
    },
    {
     "name": "stdout",
     "output_type": "stream",
     "text": [
      "weighted f1 score 0.7868823231775172\n",
      "              precision    recall  f1-score   support\n",
      "\n",
      "          -1       0.77      0.89      0.83       334\n",
      "           0       0.72      0.66      0.69       120\n",
      "           1       0.87      0.70      0.78       216\n",
      "\n",
      "    accuracy                           0.79       670\n",
      "   macro avg       0.79      0.75      0.77       670\n",
      "weighted avg       0.79      0.79      0.79       670\n",
      "\n"
     ]
    },
    {
     "data": {
      "text/html": [
       "<h3>Test data results</h3>"
      ],
      "text/plain": [
       "<IPython.core.display.HTML object>"
      ]
     },
     "metadata": {},
     "output_type": "display_data"
    },
    {
     "name": "stdout",
     "output_type": "stream",
     "text": [
      "weighted f1 score 0.70696864746043\n",
      "              precision    recall  f1-score   support\n",
      "\n",
      "          -1       0.69      0.88      0.77       156\n",
      "           0       0.59      0.44      0.50        61\n",
      "           1       0.84      0.64      0.72       113\n",
      "\n",
      "    accuracy                           0.72       330\n",
      "   macro avg       0.71      0.65      0.67       330\n",
      "weighted avg       0.72      0.72      0.71       330\n",
      "\n"
     ]
    },
    {
     "name": "stderr",
     "output_type": "stream",
     "text": [
      "C:\\Users\\selma\\anaconda3\\lib\\site-packages\\sklearn\\utils\\validation.py:593: FutureWarning: np.matrix usage is deprecated in 1.0 and will raise a TypeError in 1.2. Please convert to a numpy array with np.asarray. For more information see: https://numpy.org/doc/stable/reference/generated/numpy.matrix.html\n",
      "  warnings.warn(\n"
     ]
    }
   ],
   "source": [
    "#See if the model is underfitting/ overfitting:\n",
    "from sklearn.model_selection import train_test_split\n",
    "X_train, X_test, Y_train, Y_test = train_test_split(X, Y, test_size=0.33, random_state=42)\n",
    "X_train_counts2 = count_vect.fit_transform(X_train)\n",
    "X_test_counts = count_vect.transform(X_test)\n",
    "X_train_tfidf2 = tfidf_transformer.fit_transform(X_train_counts2).todense()\n",
    "X_test_tfidf = tfidf_transformer.transform(X_test_counts).todense()\n",
    "model2 = neigh.fit(X_train_tfidf2, Y_train)\n",
    "display(HTML(\"<h1>kNN</h1>\"))\n",
    "display(HTML(\"<h3>Train data results</h3>\"))\n",
    "model_prediction2 = model2.predict(X_train_tfidf2)\n",
    "print('weighted f1 score %s' % f1_score(Y_train, model_prediction2, average='weighted'))\n",
    "print(classification_report(Y_train, model_prediction2))\n",
    "display(HTML(\"<h3>Test data results</h3>\"))\n",
    "model_prediction_test = model2.predict(X_test_tfidf)\n",
    "print('weighted f1 score %s' % f1_score(Y_test, model_prediction_test, average='weighted'))\n",
    "print(classification_report(Y_test, model_prediction_test))"
   ]
  },
  {
   "cell_type": "code",
   "execution_count": 9,
   "id": "f644ddfc",
   "metadata": {
    "scrolled": true
   },
   "outputs": [
    {
     "name": "stderr",
     "output_type": "stream",
     "text": [
      "C:\\Users\\selma\\anaconda3\\lib\\site-packages\\sklearn\\utils\\validation.py:593: FutureWarning: np.matrix usage is deprecated in 1.0 and will raise a TypeError in 1.2. Please convert to a numpy array with np.asarray. For more information see: https://numpy.org/doc/stable/reference/generated/numpy.matrix.html\n",
      "  warnings.warn(\n"
     ]
    },
    {
     "data": {
      "text/html": [
       "<h1>oneVsone_logreg</h1>"
      ],
      "text/plain": [
       "<IPython.core.display.HTML object>"
      ]
     },
     "metadata": {},
     "output_type": "display_data"
    },
    {
     "data": {
      "text/html": [
       "<h3>All the dataset trained: Results</h3>"
      ],
      "text/plain": [
       "<IPython.core.display.HTML object>"
      ]
     },
     "metadata": {},
     "output_type": "display_data"
    },
    {
     "name": "stdout",
     "output_type": "stream",
     "text": [
      "weighted f1 score 0.8959406650529741\n",
      "              precision    recall  f1-score   support\n",
      "\n",
      "          -1       0.83      1.00      0.91       490\n",
      "           0       1.00      0.60      0.75       181\n",
      "           1       1.00      0.92      0.96       329\n",
      "\n",
      "    accuracy                           0.90      1000\n",
      "   macro avg       0.94      0.84      0.87      1000\n",
      "weighted avg       0.92      0.90      0.90      1000\n",
      "\n"
     ]
    },
    {
     "name": "stderr",
     "output_type": "stream",
     "text": [
      "C:\\Users\\selma\\anaconda3\\lib\\site-packages\\sklearn\\utils\\validation.py:593: FutureWarning: np.matrix usage is deprecated in 1.0 and will raise a TypeError in 1.2. Please convert to a numpy array with np.asarray. For more information see: https://numpy.org/doc/stable/reference/generated/numpy.matrix.html\n",
      "  warnings.warn(\n"
     ]
    }
   ],
   "source": [
    "#comparaison online/batch:\n",
    "model_logreg = oneVsone_logreg.fit(X_tfidf, Y)\n",
    "display(HTML(\"<h1>oneVsone_logreg</h1>\"))\n",
    "display(HTML(\"<h3>All the dataset trained: Results</h3>\"))\n",
    "model_prediction_lr = model_logreg.predict(X_tfidf)\n",
    "print('weighted f1 score %s' % f1_score(Y, model_prediction_lr, average='weighted'))\n",
    "print(classification_report(Y, model_prediction_lr))"
   ]
  },
  {
   "cell_type": "code",
   "execution_count": 10,
   "id": "af96c8c0",
   "metadata": {},
   "outputs": [
    {
     "name": "stderr",
     "output_type": "stream",
     "text": [
      "C:\\Users\\selma\\anaconda3\\lib\\site-packages\\sklearn\\utils\\validation.py:593: FutureWarning: np.matrix usage is deprecated in 1.0 and will raise a TypeError in 1.2. Please convert to a numpy array with np.asarray. For more information see: https://numpy.org/doc/stable/reference/generated/numpy.matrix.html\n",
      "  warnings.warn(\n"
     ]
    },
    {
     "data": {
      "text/html": [
       "<h1>oneVsone_logreg</h1>"
      ],
      "text/plain": [
       "<IPython.core.display.HTML object>"
      ]
     },
     "metadata": {},
     "output_type": "display_data"
    },
    {
     "data": {
      "text/html": [
       "<h3>Train data results</h3>"
      ],
      "text/plain": [
       "<IPython.core.display.HTML object>"
      ]
     },
     "metadata": {},
     "output_type": "display_data"
    },
    {
     "name": "stdout",
     "output_type": "stream",
     "text": [
      "weighted f1 score 0.8345681254414153\n",
      "              precision    recall  f1-score   support\n",
      "\n",
      "          -1       0.77      1.00      0.87       334\n",
      "           0       1.00      0.40      0.57       120\n",
      "           1       1.00      0.87      0.93       216\n",
      "\n",
      "    accuracy                           0.85       670\n",
      "   macro avg       0.92      0.76      0.79       670\n",
      "weighted avg       0.88      0.85      0.83       670\n",
      "\n"
     ]
    },
    {
     "name": "stderr",
     "output_type": "stream",
     "text": [
      "C:\\Users\\selma\\anaconda3\\lib\\site-packages\\sklearn\\utils\\validation.py:593: FutureWarning: np.matrix usage is deprecated in 1.0 and will raise a TypeError in 1.2. Please convert to a numpy array with np.asarray. For more information see: https://numpy.org/doc/stable/reference/generated/numpy.matrix.html\n",
      "  warnings.warn(\n"
     ]
    },
    {
     "data": {
      "text/html": [
       "<h3>Test data results</h3>"
      ],
      "text/plain": [
       "<IPython.core.display.HTML object>"
      ]
     },
     "metadata": {},
     "output_type": "display_data"
    },
    {
     "name": "stdout",
     "output_type": "stream",
     "text": [
      "weighted f1 score 0.654865936771163\n",
      "              precision    recall  f1-score   support\n",
      "\n",
      "          -1       0.61      0.99      0.75       156\n",
      "           0       1.00      0.16      0.28        61\n",
      "           1       0.98      0.57      0.72       113\n",
      "\n",
      "    accuracy                           0.69       330\n",
      "   macro avg       0.86      0.57      0.59       330\n",
      "weighted avg       0.81      0.69      0.65       330\n",
      "\n"
     ]
    },
    {
     "name": "stderr",
     "output_type": "stream",
     "text": [
      "C:\\Users\\selma\\anaconda3\\lib\\site-packages\\sklearn\\utils\\validation.py:593: FutureWarning: np.matrix usage is deprecated in 1.0 and will raise a TypeError in 1.2. Please convert to a numpy array with np.asarray. For more information see: https://numpy.org/doc/stable/reference/generated/numpy.matrix.html\n",
      "  warnings.warn(\n"
     ]
    }
   ],
   "source": [
    "#See if the model is underfitting/ overfitting:\n",
    "model2_lr = model_logreg.fit(X_train_tfidf2, Y_train)\n",
    "display(HTML(\"<h1>oneVsone_logreg</h1>\"))\n",
    "display(HTML(\"<h3>Train data results</h3>\"))\n",
    "model_prediction2_lr = model2_lr.predict(X_train_tfidf2)\n",
    "print('weighted f1 score %s' % f1_score(Y_train, model_prediction2_lr, average='weighted'))\n",
    "print(classification_report(Y_train, model_prediction2_lr))\n",
    "display(HTML(\"<h3>Test data results</h3>\"))\n",
    "model_prediction_test_lr = model2_lr.predict(X_test_tfidf)\n",
    "print('weighted f1 score %s' % f1_score(Y_test, model_prediction_test_lr, average='weighted'))\n",
    "print(classification_report(Y_test, model_prediction_test_lr))"
   ]
  },
  {
   "cell_type": "markdown",
   "id": "e65e1322",
   "metadata": {},
   "source": [
    "# Second approach: use embeddings"
   ]
  },
  {
   "cell_type": "code",
   "execution_count": 11,
   "id": "a15e167e",
   "metadata": {},
   "outputs": [],
   "source": [
    "#identify the semantics and contextual information with embeddings:\n",
    "from numpy import array\n",
    "from keras.preprocessing.text import one_hot\n",
    "from keras_preprocessing.sequence import pad_sequences\n",
    "from keras.models import Sequential\n",
    "from keras.layers import Flatten\n",
    "from tensorflow.keras.layers import Embedding"
   ]
  },
  {
   "cell_type": "code",
   "execution_count": 12,
   "id": "ae505ee0",
   "metadata": {},
   "outputs": [],
   "source": [
    "vocab_size = 300\n",
    "X_train = [one_hot(d, vocab_size) for d in X_train]\n",
    "X_test = [one_hot(d, vocab_size) for d in X_test]\n",
    "X = [one_hot(d, vocab_size) for d in X]\n",
    "max_length = 25\n",
    "X_train = pad_sequences(X_train, maxlen=max_length, padding='pre')\n",
    "X_test = pad_sequences(X_test, maxlen=max_length, padding='pre')\n",
    "X = pad_sequences(X, maxlen=max_length, padding='pre')"
   ]
  },
  {
   "cell_type": "code",
   "execution_count": 13,
   "id": "9dc40f01",
   "metadata": {},
   "outputs": [],
   "source": [
    "def get_f1(y_true, y_pred): #taken from old keras source code\n",
    "    true_positives = K.sum(K.round(K.clip(y_true * y_pred, 0, 1)))\n",
    "    possible_positives = K.sum(K.round(K.clip(y_true, 0, 1)))\n",
    "    predicted_positives = K.sum(K.round(K.clip(y_pred, 0, 1)))\n",
    "    precision = true_positives / (predicted_positives + K.epsilon())\n",
    "    recall = true_positives / (possible_positives + K.epsilon())\n",
    "    f1_val = 2*(precision*recall)/(precision+recall+K.epsilon())\n",
    "    return f1_val"
   ]
  },
  {
   "cell_type": "code",
   "execution_count": 14,
   "id": "aed72cf6",
   "metadata": {},
   "outputs": [
    {
     "name": "stdout",
     "output_type": "stream",
     "text": [
      "21/21 [==============================] - 0s 1ms/step\n",
      "11/11 [==============================] - 0s 3ms/step\n",
      "32/32 [==============================] - 0s 2ms/step\n"
     ]
    }
   ],
   "source": [
    "model = Sequential()\n",
    "model.add(Embedding(vocab_size, 1000, input_length=max_length))\n",
    "model.add(Flatten())\n",
    "\n",
    "model.compile(optimizer='adam', loss='CategoricalCrossentropy', metrics=[get_f1])\n",
    "\n",
    "X_train_embeddings = model.predict(X_train)\n",
    "X_test_embeddings = model.predict(X_test)\n",
    "X_embeddings = model.predict(X)"
   ]
  },
  {
   "cell_type": "code",
   "execution_count": 15,
   "id": "df9d5a55",
   "metadata": {},
   "outputs": [
    {
     "data": {
      "text/plain": [
       "(670, 25000)"
      ]
     },
     "execution_count": 15,
     "metadata": {},
     "output_type": "execute_result"
    }
   ],
   "source": [
    "X_train_embeddings.shape"
   ]
  },
  {
   "cell_type": "code",
   "execution_count": 16,
   "id": "57343aea",
   "metadata": {},
   "outputs": [
    {
     "data": {
      "text/html": [
       "<h1>oneVsone_logreg</h1>"
      ],
      "text/plain": [
       "<IPython.core.display.HTML object>"
      ]
     },
     "metadata": {},
     "output_type": "display_data"
    },
    {
     "data": {
      "text/html": [
       "<h3>All the dataset trained: Results</h3>"
      ],
      "text/plain": [
       "<IPython.core.display.HTML object>"
      ]
     },
     "metadata": {},
     "output_type": "display_data"
    },
    {
     "name": "stdout",
     "output_type": "stream",
     "text": [
      "weighted f1 score 0.9970016472942955\n",
      "              precision    recall  f1-score   support\n",
      "\n",
      "          -1       1.00      0.99      1.00       490\n",
      "           0       0.99      1.00      0.99       181\n",
      "           1       1.00      1.00      1.00       329\n",
      "\n",
      "    accuracy                           1.00      1000\n",
      "   macro avg       1.00      1.00      1.00      1000\n",
      "weighted avg       1.00      1.00      1.00      1000\n",
      "\n"
     ]
    }
   ],
   "source": [
    "#comparaison online/batch:\n",
    "model_logreg = oneVsone_logreg.fit(X_embeddings, Y)\n",
    "display(HTML(\"<h1>oneVsone_logreg</h1>\"))\n",
    "display(HTML(\"<h3>All the dataset trained: Results</h3>\"))\n",
    "model_prediction_lr = model_logreg.predict(X_embeddings)\n",
    "print('weighted f1 score %s' % f1_score(Y, model_prediction_lr, average='weighted'))\n",
    "print(classification_report(Y, model_prediction_lr))"
   ]
  },
  {
   "cell_type": "code",
   "execution_count": 17,
   "id": "7d6491c6",
   "metadata": {},
   "outputs": [
    {
     "data": {
      "text/html": [
       "<h1>oneVsone_logreg with embeddings</h1>"
      ],
      "text/plain": [
       "<IPython.core.display.HTML object>"
      ]
     },
     "metadata": {},
     "output_type": "display_data"
    },
    {
     "data": {
      "text/html": [
       "<h3>Train data results</h3>"
      ],
      "text/plain": [
       "<IPython.core.display.HTML object>"
      ]
     },
     "metadata": {},
     "output_type": "display_data"
    },
    {
     "name": "stdout",
     "output_type": "stream",
     "text": [
      "weighted f1 score 0.9985080673271995\n",
      "              precision    recall  f1-score   support\n",
      "\n",
      "          -1       1.00      1.00      1.00       334\n",
      "           0       1.00      1.00      1.00       120\n",
      "           1       1.00      1.00      1.00       216\n",
      "\n",
      "    accuracy                           1.00       670\n",
      "   macro avg       1.00      1.00      1.00       670\n",
      "weighted avg       1.00      1.00      1.00       670\n",
      "\n"
     ]
    },
    {
     "data": {
      "text/html": [
       "<h3>Test data results</h3>"
      ],
      "text/plain": [
       "<IPython.core.display.HTML object>"
      ]
     },
     "metadata": {},
     "output_type": "display_data"
    },
    {
     "name": "stdout",
     "output_type": "stream",
     "text": [
      "weighted f1 score 0.685381322075537\n",
      "              precision    recall  f1-score   support\n",
      "\n",
      "          -1       0.67      0.89      0.77       156\n",
      "           0       0.61      0.44      0.51        61\n",
      "           1       0.81      0.57      0.67       113\n",
      "\n",
      "    accuracy                           0.70       330\n",
      "   macro avg       0.70      0.63      0.65       330\n",
      "weighted avg       0.71      0.70      0.69       330\n",
      "\n"
     ]
    }
   ],
   "source": [
    "model2_lr_embed = model_logreg.fit(X_train_embeddings, Y_train)\n",
    "display(HTML(\"<h1>oneVsone_logreg with embeddings</h1>\"))\n",
    "display(HTML(\"<h3>Train data results</h3>\"))\n",
    "model_prediction2_lr_embed = model2_lr_embed.predict(X_train_embeddings)\n",
    "print('weighted f1 score %s' % f1_score(Y_train, model_prediction2_lr_embed, average='weighted'))\n",
    "print(classification_report(Y_train, model_prediction2_lr_embed))\n",
    "display(HTML(\"<h3>Test data results</h3>\"))\n",
    "model_prediction_test_lr_embed = model2_lr_embed.predict(X_test_embeddings)\n",
    "print('weighted f1 score %s' % f1_score(Y_test, model_prediction_test_lr_embed, average='weighted'))\n",
    "print(classification_report(Y_test, model_prediction_test_lr_embed))"
   ]
  }
 ],
 "metadata": {
  "kernelspec": {
   "display_name": "Python 3 (ipykernel)",
   "language": "python",
   "name": "python3"
  },
  "language_info": {
   "codemirror_mode": {
    "name": "ipython",
    "version": 3
   },
   "file_extension": ".py",
   "mimetype": "text/x-python",
   "name": "python",
   "nbconvert_exporter": "python",
   "pygments_lexer": "ipython3",
   "version": "3.9.12"
  }
 },
 "nbformat": 4,
 "nbformat_minor": 5
}
