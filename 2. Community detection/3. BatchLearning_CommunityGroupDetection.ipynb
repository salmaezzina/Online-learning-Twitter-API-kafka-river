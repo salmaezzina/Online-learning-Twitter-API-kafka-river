{
 "cells": [
  {
   "cell_type": "code",
   "execution_count": 100,
   "id": "5f462e13",
   "metadata": {},
   "outputs": [],
   "source": [
    "import pandas as pd\n",
    "import numpy as np\n",
    "import gensim\n",
    "from zipfile import ZipFile \n",
    "from gensim.models import Word2Vec\n",
    "from sklearn.feature_extraction.text import CountVectorizer\n",
    "from sklearn.feature_extraction.text import TfidfTransformer\n",
    "from sklearn.cluster import KMeans,DBSCAN, SpectralClustering, AgglomerativeClustering\n",
    "from sklearn.metrics import silhouette_score\n",
    "from  sklearn.decomposition import PCA\n",
    "from sklearn.preprocessing import StandardScaler\n",
    "import seaborn as sns\n",
    "import matplotlib.pyplot as plt"
   ]
  },
  {
   "cell_type": "code",
   "execution_count": 101,
   "id": "24864a70",
   "metadata": {},
   "outputs": [],
   "source": [
    "file = \"data.zip\"\n",
    "  \n",
    "# ouvrir le fichier zip en mode lecture\n",
    "with ZipFile(file, 'r') as zip: \n",
    "    # extraire tous les fichiers vers un autre répertoire\n",
    "    zip.extractall('data')"
   ]
  },
  {
   "cell_type": "code",
   "execution_count": 102,
   "id": "2832f71f",
   "metadata": {},
   "outputs": [
    {
     "data": {
      "text/html": [
       "<div>\n",
       "<style scoped>\n",
       "    .dataframe tbody tr th:only-of-type {\n",
       "        vertical-align: middle;\n",
       "    }\n",
       "\n",
       "    .dataframe tbody tr th {\n",
       "        vertical-align: top;\n",
       "    }\n",
       "\n",
       "    .dataframe thead th {\n",
       "        text-align: right;\n",
       "    }\n",
       "</style>\n",
       "<table border=\"1\" class=\"dataframe\">\n",
       "  <thead>\n",
       "    <tr style=\"text-align: right;\">\n",
       "      <th></th>\n",
       "      <th>lang</th>\n",
       "      <th>possibly_sensitive</th>\n",
       "      <th>text</th>\n",
       "      <th>created_at</th>\n",
       "      <th>label</th>\n",
       "    </tr>\n",
       "  </thead>\n",
       "  <tbody>\n",
       "    <tr>\n",
       "      <th>0</th>\n",
       "      <td>en</td>\n",
       "      <td>False</td>\n",
       "      <td>package would cost problably ukraine gdp</td>\n",
       "      <td>2023-01-15 21:01:27</td>\n",
       "      <td>0</td>\n",
       "    </tr>\n",
       "    <tr>\n",
       "      <th>1</th>\n",
       "      <td>en</td>\n",
       "      <td>False</td>\n",
       "      <td>rt syrian solidarity ukrainians strong horrid ...</td>\n",
       "      <td>2023-01-15 21:01:27</td>\n",
       "      <td>-1</td>\n",
       "    </tr>\n",
       "    <tr>\n",
       "      <th>2</th>\n",
       "      <td>fr</td>\n",
       "      <td>False</td>\n",
       "      <td>rt apoth ose guerre tableau peintre russe vass...</td>\n",
       "      <td>2023-01-15 21:01:27</td>\n",
       "      <td>0</td>\n",
       "    </tr>\n",
       "    <tr>\n",
       "      <th>3</th>\n",
       "      <td>en</td>\n",
       "      <td>False</td>\n",
       "      <td>ukrainians dying far greater numbers fantasy i...</td>\n",
       "      <td>2023-01-15 21:01:27</td>\n",
       "      <td>1</td>\n",
       "    </tr>\n",
       "    <tr>\n",
       "      <th>4</th>\n",
       "      <td>en</td>\n",
       "      <td>False</td>\n",
       "      <td>rt death toll jan russian cruise missile strik...</td>\n",
       "      <td>2023-01-15 21:01:27</td>\n",
       "      <td>-1</td>\n",
       "    </tr>\n",
       "    <tr>\n",
       "      <th>...</th>\n",
       "      <td>...</td>\n",
       "      <td>...</td>\n",
       "      <td>...</td>\n",
       "      <td>...</td>\n",
       "      <td>...</td>\n",
       "    </tr>\n",
       "    <tr>\n",
       "      <th>908</th>\n",
       "      <td>en</td>\n",
       "      <td>False</td>\n",
       "      <td>rt russian troops makiivka party new years eve...</td>\n",
       "      <td>2023-01-15 20:59:11</td>\n",
       "      <td>1</td>\n",
       "    </tr>\n",
       "    <tr>\n",
       "      <th>909</th>\n",
       "      <td>en</td>\n",
       "      <td>False</td>\n",
       "      <td>rt polish pm morawiecki traveling berlin tomor...</td>\n",
       "      <td>2023-01-15 20:59:11</td>\n",
       "      <td>1</td>\n",
       "    </tr>\n",
       "    <tr>\n",
       "      <th>910</th>\n",
       "      <td>en</td>\n",
       "      <td>False</td>\n",
       "      <td>done nothing russia would taken ukraine days w...</td>\n",
       "      <td>2023-01-15 20:59:11</td>\n",
       "      <td>1</td>\n",
       "    </tr>\n",
       "    <tr>\n",
       "      <th>911</th>\n",
       "      <td>en</td>\n",
       "      <td>False</td>\n",
       "      <td>rt sleepy joe japanese prime minister fumio ki...</td>\n",
       "      <td>2023-01-15 20:59:11</td>\n",
       "      <td>0</td>\n",
       "    </tr>\n",
       "    <tr>\n",
       "      <th>912</th>\n",
       "      <td>en</td>\n",
       "      <td>False</td>\n",
       "      <td>rt sending tanks ukraine polish man stopped jo...</td>\n",
       "      <td>2023-01-15 20:59:11</td>\n",
       "      <td>-1</td>\n",
       "    </tr>\n",
       "  </tbody>\n",
       "</table>\n",
       "<p>913 rows × 5 columns</p>\n",
       "</div>"
      ],
      "text/plain": [
       "    lang  possibly_sensitive  \\\n",
       "0     en               False   \n",
       "1     en               False   \n",
       "2     fr               False   \n",
       "3     en               False   \n",
       "4     en               False   \n",
       "..   ...                 ...   \n",
       "908   en               False   \n",
       "909   en               False   \n",
       "910   en               False   \n",
       "911   en               False   \n",
       "912   en               False   \n",
       "\n",
       "                                                  text           created_at  \\\n",
       "0             package would cost problably ukraine gdp  2023-01-15 21:01:27   \n",
       "1    rt syrian solidarity ukrainians strong horrid ...  2023-01-15 21:01:27   \n",
       "2    rt apoth ose guerre tableau peintre russe vass...  2023-01-15 21:01:27   \n",
       "3    ukrainians dying far greater numbers fantasy i...  2023-01-15 21:01:27   \n",
       "4    rt death toll jan russian cruise missile strik...  2023-01-15 21:01:27   \n",
       "..                                                 ...                  ...   \n",
       "908  rt russian troops makiivka party new years eve...  2023-01-15 20:59:11   \n",
       "909  rt polish pm morawiecki traveling berlin tomor...  2023-01-15 20:59:11   \n",
       "910  done nothing russia would taken ukraine days w...  2023-01-15 20:59:11   \n",
       "911  rt sleepy joe japanese prime minister fumio ki...  2023-01-15 20:59:11   \n",
       "912  rt sending tanks ukraine polish man stopped jo...  2023-01-15 20:59:11   \n",
       "\n",
       "     label  \n",
       "0        0  \n",
       "1       -1  \n",
       "2        0  \n",
       "3        1  \n",
       "4       -1  \n",
       "..     ...  \n",
       "908      1  \n",
       "909      1  \n",
       "910      1  \n",
       "911      0  \n",
       "912     -1  \n",
       "\n",
       "[913 rows x 5 columns]"
      ]
     },
     "execution_count": 102,
     "metadata": {},
     "output_type": "execute_result"
    }
   ],
   "source": [
    "df_tweets = pd.read_csv('data/out.csv')\n",
    "df_tweets "
   ]
  },
  {
   "cell_type": "code",
   "execution_count": 103,
   "id": "ba428c84",
   "metadata": {},
   "outputs": [
    {
     "name": "stdout",
     "output_type": "stream",
     "text": [
      "<class 'pandas.core.frame.DataFrame'>\n",
      "RangeIndex: 913 entries, 0 to 912\n",
      "Data columns (total 5 columns):\n",
      " #   Column              Non-Null Count  Dtype \n",
      "---  ------              --------------  ----- \n",
      " 0   lang                913 non-null    object\n",
      " 1   possibly_sensitive  913 non-null    bool  \n",
      " 2   text                911 non-null    object\n",
      " 3   created_at          913 non-null    object\n",
      " 4   label               913 non-null    int64 \n",
      "dtypes: bool(1), int64(1), object(3)\n",
      "memory usage: 29.5+ KB\n"
     ]
    }
   ],
   "source": [
    "df_tweets.info()"
   ]
  },
  {
   "cell_type": "code",
   "execution_count": 104,
   "id": "ec1a7f41",
   "metadata": {},
   "outputs": [],
   "source": [
    "X= df_tweets['text']\n",
    "count_vect = CountVectorizer()\n",
    "tfidf_transformer = TfidfTransformer()"
   ]
  },
  {
   "cell_type": "code",
   "execution_count": 105,
   "id": "5d161d9a",
   "metadata": {},
   "outputs": [],
   "source": [
    "X_train_counts = count_vect.fit_transform(X.values.astype('U'))\n",
    "X_train_tfidf = tfidf_transformer.fit_transform(X_train_counts).todense()"
   ]
  },
  {
   "cell_type": "code",
   "execution_count": 106,
   "id": "c544b735",
   "metadata": {},
   "outputs": [
    {
     "name": "stdout",
     "output_type": "stream",
     "text": [
      "Number of clusters obtained using DBSCAN: 103\n"
     ]
    }
   ],
   "source": [
    "# Using DBSCAN\n",
    "dbscan_est = DBSCAN(eps=0.5, min_samples=2)\n",
    "dbscan_est.fit_predict(np.asarray(X_train_tfidf))\n",
    "#Storing the labels formed by the DBSCAN\n",
    "labels = dbscan_est.labels_\n",
    "#Calculating \"the number of clusters\"\n",
    "n_clusters_ = len(set(labels)) - (1 if -1 in labels else 0)\n",
    "print(\"Number of clusters obtained using DBSCAN:\",n_clusters_)"
   ]
  },
  {
   "cell_type": "code",
   "execution_count": 107,
   "id": "35f923b0",
   "metadata": {},
   "outputs": [
    {
     "name": "stdout",
     "output_type": "stream",
     "text": [
      "Silhouette Coefficient: 0.433\n"
     ]
    }
   ],
   "source": [
    "#Computing \"the Silhouette Score\"\n",
    "print(\"Silhouette Coefficient: %0.3f\"\n",
    "      % silhouette_score(np.asarray(X_train_tfidf), labels))"
   ]
  },
  {
   "cell_type": "code",
   "execution_count": 108,
   "id": "0057d28c",
   "metadata": {},
   "outputs": [
    {
     "name": "stderr",
     "output_type": "stream",
     "text": [
      "C:\\Users\\chaima\\anaconda3\\lib\\site-packages\\sklearn\\cluster\\_kmeans.py:870: FutureWarning: The default value of `n_init` will change from 10 to 'auto' in 1.4. Set the value of `n_init` explicitly to suppress the warning\n",
      "  warnings.warn(\n",
      "C:\\Users\\chaima\\anaconda3\\lib\\site-packages\\sklearn\\cluster\\_kmeans.py:1382: UserWarning: KMeans is known to have a memory leak on Windows with MKL, when there are less chunks than available threads. You can avoid it by setting the environment variable OMP_NUM_THREADS=4.\n",
      "  warnings.warn(\n"
     ]
    },
    {
     "data": {
      "text/plain": [
       "array([ 36,  37,  98, 238,  10, 132, 150, 147,  24,   1,  70,   2,  93,\n",
       "       142,  11,  10, 138, 132,   1,   1,  36, 154, 132,  87,  59, 237,\n",
       "       240,  72,  73,   4, 100, 136,  69,  72, 132,  43,  45, 162,  13,\n",
       "       151,  98, 154,  84, 132, 228,   2,  54, 135, 197,  10,  10,  15,\n",
       "        10,   7, 231, 131,  29,   7, 126, 214,  12, 115,  82,  38,   7,\n",
       "        28, 240,   4,   5, 232,  32, 143, 201, 132,  24, 171, 117,   1,\n",
       "       106, 103,  63,   0, 227, 130,  24, 105,  21,  64,  47, 109,  71,\n",
       "       120, 145,  21,  44, 122, 191, 207,  41,   5, 116,  41,  44,  21,\n",
       "       235,  95, 132,  31,  76, 132,  20,   4, 162, 174, 223, 165, 165,\n",
       "        10, 172,  38, 143,   5,  60,   2,   5, 212, 235,   0,   5,  42,\n",
       "        65, 165, 145, 240, 139, 114, 118,  92,   9, 230,   0, 142, 132,\n",
       "        21, 167, 244, 241, 126,  70, 142,  24, 240,  10,  59, 125, 121,\n",
       "       197, 145, 187, 143, 106,  13,  74, 240,   4,  29, 232,  11,  72,\n",
       "         2,  66,  93, 124,  40,  18, 222,  77, 211, 135,   0,   6,  45,\n",
       "       221, 227,  57,   7, 160,  13,  58,  61,  42, 116, 126, 103,  48,\n",
       "       215,  27,  31, 159,  10, 233,   5, 162,  86,  65, 140,   1, 222,\n",
       "        25,  46,  29,   7,  63, 115, 152,  59,  27, 241, 124, 173, 234,\n",
       "       102, 111,  89,   7,  39,  25,  15,  16,  43,   1, 185,  47,  21,\n",
       "       176,   5,  37,  69,  50,  48, 132, 212,  84, 240, 191,  74,  46,\n",
       "       132,  20,  16, 108,   5, 191, 133,   8,  20, 109,   4, 127,   5,\n",
       "        27, 191, 144,   3,   7, 160, 213, 112,  61,  13,   1,  29,  63,\n",
       "        90, 132,  96, 178,  27,  32, 166, 178, 163, 132, 143,  73, 216,\n",
       "        29,  31,   7,  42,  43,  11,   0,  74, 126, 227,  34,  46,   1,\n",
       "       154,  89, 143,  79, 204,  86,  75,   5, 202, 190, 242,  28,   2,\n",
       "       173,  85,  68, 136,  47,   7, 132, 170, 103,  10,  46,  91,  16,\n",
       "        93,   7, 240, 207, 115, 118, 189,   7,  65, 217, 114,  62,  46,\n",
       "         5,  39, 153,  61,  21, 188, 225,  54,   6,   1,  10, 184,  24,\n",
       "        68, 107, 132,  59, 100,  64, 161, 187, 234,  59, 123, 106, 157,\n",
       "       220, 155,  76, 204,  80,  33,   9,  81,   5,   4,  16,  55,  39,\n",
       "       112, 105, 174, 201,  16,   6, 159, 189, 143,  51,  24,  33, 130,\n",
       "       183, 193, 180,  13,   8, 191,  59,   6,   6,   4, 122,  81, 178,\n",
       "       235,  40,  98, 217,  83, 233,  39,  46, 156,  13,  76, 176,  72,\n",
       "       230, 225,  18,  45,  11, 109,  11, 111,  18, 177,  26,  47, 191,\n",
       "        17, 147, 150,   5,  92, 142,  63,  46,   5, 184, 128, 243,  62,\n",
       "        41,  35, 229,  55, 164, 115, 143, 228,   0,  63, 219,  16, 172,\n",
       "        53, 134,  27,  56,  41,  12, 198, 195,  16,  13, 132,  11,  54,\n",
       "       112,  14,   2, 224,  24, 110,   1,  51, 131,  62,   1,  10, 126,\n",
       "        83,   1, 181,  87,  53,  42, 136,  54,  75,  97, 148, 142, 112,\n",
       "        49,  46,  40,   1,   6,  99, 142, 117,  36,  36,   1,  51,  89,\n",
       "       134,   5,  94, 132, 220, 153,  16,  25, 191, 168,  86,  11, 123,\n",
       "       226,  66,  84,  36, 163, 182,  50, 235,  26, 169,  94,   6,  68,\n",
       "        95,  30,  13,  41,  11, 155, 115,  94, 129,   0,   0, 234, 236,\n",
       "       149,  97, 189,  32,   7,   0,  10,  60, 146,  89,  34, 135,  21,\n",
       "       172, 172,  13, 191, 184, 190,   1,   7,  64,  16, 155,   8,  19,\n",
       "       126,  88,  87, 152,  16,  12,  98,  63, 200,  26, 156,  42,  82,\n",
       "       130, 177,  92,  34, 126,  70, 126, 113,  98, 138,  74, 149,  11,\n",
       "         1, 202,  55, 208, 203, 163,  32, 186,  13,  57, 209, 211, 126,\n",
       "       244,   6,  97, 242, 116,  12,  79, 233,  44,  27,  50,  30,  88,\n",
       "       121, 103,   5,  36,   6,   8,  72, 175,  40, 107,   0,   1, 143,\n",
       "       122,  13, 157, 196,   1, 184,  99,  45,   1, 191, 233,  22, 142,\n",
       "        44, 146, 107, 132,  12, 201, 132, 140,   7,   4,  13,  23,  13,\n",
       "        13,  71, 191,  42,  86,  96, 242,  95, 179, 193, 128,   1,   5,\n",
       "         7,  57, 151,  58, 104,   1, 103,  66, 206, 122,  10,   0, 240,\n",
       "       132, 132,   1,  21,  44,  20,   5, 141,   5,  36,  12,   5,  12,\n",
       "        97,  85, 201,   7, 135,  38, 120,  54,  83,  22,   7, 132, 101,\n",
       "       101, 100, 191, 143,   6,  66,  97, 120,  65, 165, 100, 102,  37,\n",
       "       205, 101,  20,  77,  72, 188, 233, 161, 168,  80, 109,  26, 121,\n",
       "        75, 130, 126, 172, 149,  91, 210,   8,   1,  22, 242,  19,  56,\n",
       "       121,   1,  67, 142,   0,  91, 199, 121, 170, 171, 108,  30,  71,\n",
       "        60, 216, 100, 167,  42,  20, 144,  13, 205, 196, 119, 198, 191,\n",
       "        89,  32,  40,  21,  53, 213, 148, 100, 137, 132, 124, 194, 153,\n",
       "        44,  14, 240, 215, 142,  21,  22,  74, 132, 116, 201,  58, 110,\n",
       "         5,  26, 112,  71, 148,  35, 182,   6,  18,   1,  46,   5,   6,\n",
       "       218,  64, 242,  62,  13,   0,  58, 220, 243,  68,  83, 190,  24,\n",
       "         1,   7,  75,  94, 192,  78,   7,  22, 164,  20,  21,   8,  44,\n",
       "        22, 115, 153,   1,  15,  80,  18,  12,   7,   6,  78, 108, 151,\n",
       "       239,  55,   7,  82, 126, 148,  65,  49,  88,  40,  87, 119, 201,\n",
       "         7,  99,   0,  79,   8,   4, 140,  11,  47,  64,  11,  87,  52,\n",
       "        40, 111,  38,  42, 129,  77,   5, 159,  12,  98, 135, 158, 105,\n",
       "        93,   7,  13,  93,  93, 113,  27, 192, 229, 189,  28,   4,  20,\n",
       "        36,  66,  39])"
      ]
     },
     "execution_count": 108,
     "metadata": {},
     "output_type": "execute_result"
    }
   ],
   "source": [
    "# Using K-means with n_clusters equal to the number of clusters found by the algorithm DBSCAN\n",
    "K = 245\n",
    "kmeans_est = KMeans(n_clusters=K, random_state=0)\n",
    "kmeans_est.fit_predict(np.asarray(X_train_tfidf))"
   ]
  },
  {
   "cell_type": "code",
   "execution_count": 110,
   "id": "0839d18a",
   "metadata": {},
   "outputs": [
    {
     "name": "stdout",
     "output_type": "stream",
     "text": [
      "Silhouette Coeficient 0.41412518493501765\n"
     ]
    }
   ],
   "source": [
    "# Calculate Silhoutte Score\n",
    "score = silhouette_score(np.asarray(X_train_tfidf), kmeans_est.labels_)\n",
    "print(\"Silhouette Coeficient\", score)"
   ]
  },
  {
   "cell_type": "code",
   "execution_count": 111,
   "id": "f6d51ad2",
   "metadata": {},
   "outputs": [
    {
     "name": "stdout",
     "output_type": "stream",
     "text": [
      "Silhouette Coefficient: 0.467\n"
     ]
    }
   ],
   "source": [
    "# Using Hierarchical clustering\n",
    "HCA_est = AgglomerativeClustering(n_clusters=K)\n",
    "HCA_est.fit_predict(np.asarray(X_train_tfidf))\n",
    "#Computing \"the Silhouette Score\"\n",
    "print(\"Silhouette Coefficient: %0.3f\"\n",
    "      % silhouette_score(np.asarray(X_train_tfidf), HCA_est.labels_))"
   ]
  },
  {
   "cell_type": "code",
   "execution_count": null,
   "id": "b4da1aab",
   "metadata": {},
   "outputs": [],
   "source": []
  }
 ],
 "metadata": {
  "kernelspec": {
   "display_name": "Python 3",
   "language": "python",
   "name": "python3"
  },
  "language_info": {
   "codemirror_mode": {
    "name": "ipython",
    "version": 3
   },
   "file_extension": ".py",
   "mimetype": "text/x-python",
   "name": "python",
   "nbconvert_exporter": "python",
   "pygments_lexer": "ipython3",
   "version": "3.8.8"
  }
 },
 "nbformat": 4,
 "nbformat_minor": 5
}
